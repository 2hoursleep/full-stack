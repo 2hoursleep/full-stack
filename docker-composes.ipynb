{
 "cells": [
  {
   "cell_type": "code",
   "execution_count": 70,
   "metadata": {},
   "outputs": [],
   "source": [
    "stages_req = {\n",
    "  \"build\": [[\n",
    "    \"build dir\",\n",
    "    \"image name\",\n",
    "    \"image tag\"\n",
    "  ], [\n",
    "    \"build dev\",\n",
    "  ]],\n",
    "  \"dev\": [[\n",
    "    \"build dev\",\n",
    "    \"other images\",\n",
    "    \"dev ports\",\n",
    "    \"environment variables\",\n",
    "    \"depends on\",\n",
    "    \"dev volumes\",\n",
    "    \"traefik service local\",\n",
    "    \"dev traefik labels\",\n",
    "    'admin',\n",
    "    'test environment variables',\n",
    "  ], [\n",
    "      \"traefik service prod\",\n",
    "  ]],\n",
    "  \"test\": [[\n",
    "    \"build dir\",\n",
    "    \"other images\",\n",
    "    \"environment variables\",\n",
    "    'test environment variables',\n",
    "    'depends on',\n",
    "  ], [\n",
    "      'admin',\n",
    "  ]],\n",
    "  \"deployprod\": [[\n",
    "    \"image name\",\n",
    "    \"image tag\",\n",
    "    \"other images\",\n",
    "    \"prod traefik labels\",\n",
    "    \"domain-name\",\n",
    "    \"environment variables\",\n",
    "    \"traefik constraint tag\",\n",
    "    \"depends on\",\n",
    "    \"prod volumes\",\n",
    "    \"traefik service prod\",\n",
    "    \"traefik network\",\n",
    "    'admin',\n",
    "  ], [\n",
    "    \"build dir\",\n",
    "    \"build dev\",\n",
    "    \"dev ports\",\n",
    "    \"dev volumes\",\n",
    "    \"traefik service local\",\n",
    "    'test environment variables',\n",
    "  ]],\n",
    "}"
   ]
  },
  {
   "cell_type": "code",
   "execution_count": 71,
   "metadata": {},
   "outputs": [
    {
     "data": {
      "text/plain": [
       "{'admin',\n",
       " 'build dev',\n",
       " 'build dir',\n",
       " 'depends on',\n",
       " 'dev ports',\n",
       " 'dev traefik labels',\n",
       " 'dev volumes',\n",
       " 'domain-name',\n",
       " 'environment variables',\n",
       " 'image name',\n",
       " 'image tag',\n",
       " 'other images',\n",
       " 'prod traefik labels',\n",
       " 'prod volumes',\n",
       " 'test environment variables',\n",
       " 'traefik constraint tag',\n",
       " 'traefik network',\n",
       " 'traefik service local',\n",
       " 'traefik service prod'}"
      ]
     },
     "execution_count": 71,
     "metadata": {},
     "output_type": "execute_result"
    }
   ],
   "source": [
    "features = set()\n",
    "for stage in stages_req:\n",
    "    for feat_list in stages_req[stage]:\n",
    "        for feat in feat_list:\n",
    "            features.add(feat)\n",
    "features"
   ]
  },
  {
   "cell_type": "code",
   "execution_count": 72,
   "metadata": {},
   "outputs": [],
   "source": [
    "providers = {\n",
    "    'normal': ['depends on', 'domain-name', 'environment variables', 'other images'],\n",
    "    'admin': ['admin',],\n",
    "    'build': ['build dir',],\n",
    "    'test': ['test environment variables',], \n",
    "    'images': ['image name', 'image tag',], \n",
    "    'deploy': ['prod traefik labels', 'prod volumes', 'traefik constraint tag', 'traefik network', 'traefik service prod', 'admin'], \n",
    "    'override': ['build dev', 'dev ports', 'dev traefik labels', 'dev volumes', 'traefik service local', 'admin'],\n",
    "}"
   ]
  },
  {
   "cell_type": "code",
   "execution_count": 73,
   "metadata": {},
   "outputs": [
    {
     "data": {
      "text/plain": [
       "{'build': {'build', 'images'},\n",
       " 'deployprod': {'admin', 'deploy', 'images', 'normal'},\n",
       " 'dev': {'admin', 'normal', 'override', 'test'},\n",
       " 'test': {'build', 'normal', 'test'}}"
      ]
     },
     "execution_count": 73,
     "metadata": {},
     "output_type": "execute_result"
    }
   ],
   "source": [
    "stages_providers = {}\n",
    "for stage, (reqs, unreqs) in stages_req.items():\n",
    "    stages_providers[stage] = set()\n",
    "    for provider, features in providers.items():\n",
    "        if any([feature for feature in features if feature in reqs]):\n",
    "            if not any([feature for feature in features if feature in unreqs]):\n",
    "                stages_providers[stage].add(provider)\n",
    "stages_providers"
   ]
  },
  {
   "cell_type": "code",
   "execution_count": 74,
   "metadata": {},
   "outputs": [
    {
     "data": {
      "text/plain": [
       "{'build': {'build', 'images'},\n",
       " 'deployprod': {'admin', 'deploy', 'images', 'normal'},\n",
       " 'dev': {'admin', 'normal', 'override', 'test'},\n",
       " 'test': {'build', 'normal', 'test'}}"
      ]
     },
     "execution_count": 74,
     "metadata": {},
     "output_type": "execute_result"
    }
   ],
   "source": [
    "stages_providers = {}\n",
    "for stage, (reqs, unreqs) in stages_req.items():\n",
    "    stages_providers[stage] = set()\n",
    "    for feature in reqs:\n",
    "        provided_by = None\n",
    "        for provider, features in providers.items():\n",
    "            for unreq in unreqs:\n",
    "                if unreq in features:\n",
    "                    continue\n",
    "            if feature in features:\n",
    "                provided_by = provider\n",
    "                break\n",
    "        if not provided_by:\n",
    "            print(f'feature not provided: {feature}; stage: {stage}')\n",
    "        else:\n",
    "            stages_providers[stage].add(provider)\n",
    "stages_providers"
   ]
  },
  {
   "cell_type": "code",
   "execution_count": null,
   "metadata": {},
   "outputs": [],
   "source": []
  }
 ],
 "metadata": {
  "kernelspec": {
   "display_name": "Python 3",
   "language": "python",
   "name": "python3"
  },
  "language_info": {
   "codemirror_mode": {
    "name": "ipython",
    "version": 3
   },
   "file_extension": ".py",
   "mimetype": "text/x-python",
   "name": "python",
   "nbconvert_exporter": "python",
   "pygments_lexer": "ipython3",
   "version": "3.6.3"
  }
 },
 "nbformat": 4,
 "nbformat_minor": 2
}
